{
 "cells": [
  {
   "cell_type": "code",
   "execution_count": 1,
   "id": "71f170b7",
   "metadata": {},
   "outputs": [
    {
     "name": "stdout",
     "output_type": "stream",
     "text": [
      "Requirement already satisfied: pyarrow in /usr/local/python/3.12.1/lib/python3.12/site-packages (19.0.1)\n",
      "\n",
      "\u001b[1m[\u001b[0m\u001b[34;49mnotice\u001b[0m\u001b[1;39;49m]\u001b[0m\u001b[39;49m A new release of pip is available: \u001b[0m\u001b[31;49m25.0.1\u001b[0m\u001b[39;49m -> \u001b[0m\u001b[32;49m25.1.1\u001b[0m\n",
      "\u001b[1m[\u001b[0m\u001b[34;49mnotice\u001b[0m\u001b[1;39;49m]\u001b[0m\u001b[39;49m To update, run: \u001b[0m\u001b[32;49mpython3 -m pip install --upgrade pip\u001b[0m\n"
     ]
    }
   ],
   "source": [
    "! pip install pyarrow"
   ]
  },
  {
   "cell_type": "code",
   "execution_count": 2,
   "id": "009a3844",
   "metadata": {},
   "outputs": [],
   "source": [
    "import pandas as pd\n",
    "import pyarrow.parquet as pq\n",
    "import pickle\n",
    "import seaborn as sns\n",
    "import matplotlib.pyplot as plt\n",
    "from sklearn.feature_extraction import DictVectorizer\n",
    "from sklearn.linear_model import LinearRegression\n",
    "from sklearn.linear_model import Lasso\n",
    "from sklearn.linear_model import Ridge\n",
    "import os\n",
    "\n",
    "from sklearn.metrics import mean_squared_error\n",
    "from sklearn.metrics import mean_absolute_error, root_mean_squared_error"
   ]
  },
  {
   "cell_type": "code",
   "execution_count": 3,
   "id": "e72e1a15",
   "metadata": {},
   "outputs": [],
   "source": [
    "def load_data(url_parquet):\n",
    "    url = url_parquet\n",
    "    file_name = url.split('/')[-1]\n",
    "    os.system(f'curl -o data/{file_name} \"{url}\"')\n",
    "    print(\"Data downloaded\")"
   ]
  },
  {
   "cell_type": "code",
   "execution_count": 14,
   "id": "40ff8a25",
   "metadata": {},
   "outputs": [],
   "source": [
    "def read_dataframe(filename):\n",
    "    df = pd.read_parquet(filename)\n",
    "\n",
    "    print(len(df.columns))\n",
    "\n",
    "    df.tpep_dropoff_datetime = pd.to_datetime(df.tpep_dropoff_datetime)\n",
    "    df.tpep_pickup_datetime = pd.to_datetime(df.tpep_pickup_datetime)\n",
    "\n",
    "    df['duration'] = df.tpep_dropoff_datetime - df.tpep_pickup_datetime\n",
    "    df.duration = df.duration.apply(lambda td: td.total_seconds() / 60)\n",
    "\n",
    "    print(df.duration.describe().round(2))\n",
    "\n",
    "    print(df[(df.duration >= 1) & (df.duration <= 60)].shape[0] / df.shape[0])\n",
    "\n",
    "    df = df[(df.duration >= 1) & (df.duration <= 60)]\n",
    "\n",
    "    categorical = ['PULocationID', 'DOLocationID']\n",
    "    df[categorical] = df[categorical].astype(str)\n",
    "    \n",
    "    return df"
   ]
  },
  {
   "cell_type": "code",
   "execution_count": 7,
   "id": "db6d1628",
   "metadata": {},
   "outputs": [
    {
     "name": "stderr",
     "output_type": "stream",
     "text": [
      "  % Total    % Received % Xferd  Average Speed   Time    Time     Time  Current\n",
      "                                 Dload  Upload   Total   Spent    Left  Speed\n",
      "100 45.4M  100 45.4M    0     0   355M      0 --:--:-- --:--:-- --:--:--  355M\n",
      "  % Total    % Received % Xferd  Average Speed   Time    Time     Time  Current\n",
      "                                 Dload  Upload   Total   Spent    Left  Speed\n",
      "  0     0    0     0    0     0      0      0 --:--:-- --:--:-- --:--:--     0"
     ]
    },
    {
     "name": "stdout",
     "output_type": "stream",
     "text": [
      "Data downloaded\n",
      "Data downloaded\n"
     ]
    },
    {
     "name": "stderr",
     "output_type": "stream",
     "text": [
      "100 45.5M  100 45.5M    0     0   392M      0 --:--:-- --:--:-- --:--:--  392M\n"
     ]
    }
   ],
   "source": [
    "url_train = 'https://d37ci6vzurychx.cloudfront.net/trip-data/yellow_tripdata_2023-01.parquet'\n",
    "url_val = 'https://d37ci6vzurychx.cloudfront.net/trip-data/yellow_tripdata_2023-02.parquet'\n",
    "load_data(url_train)\n",
    "load_data(url_val)"
   ]
  },
  {
   "cell_type": "code",
   "execution_count": 15,
   "id": "2d93f534",
   "metadata": {},
   "outputs": [
    {
     "name": "stdout",
     "output_type": "stream",
     "text": [
      "19\n",
      "count    3066766.00\n",
      "mean          15.67\n",
      "std           42.59\n",
      "min          -29.20\n",
      "25%            7.12\n",
      "50%           11.52\n",
      "75%           18.30\n",
      "max        10029.18\n",
      "Name: duration, dtype: float64\n",
      "0.9812202822125979\n",
      "19\n",
      "count    2913955.00\n",
      "mean          16.02\n",
      "std           42.84\n",
      "min          -43.62\n",
      "25%            7.25\n",
      "50%           11.80\n",
      "75%           18.77\n",
      "max         7053.62\n",
      "Name: duration, dtype: float64\n",
      "0.9800944077722545\n"
     ]
    }
   ],
   "source": [
    "df_train = read_dataframe('./data/yellow_tripdata_2023-01.parquet')\n",
    "df_val = read_dataframe('./data/yellow_tripdata_2023-02.parquet')"
   ]
  },
  {
   "cell_type": "code",
   "execution_count": 16,
   "id": "c7229957",
   "metadata": {},
   "outputs": [
    {
     "name": "stdout",
     "output_type": "stream",
     "text": [
      "(3009173, 515)\n"
     ]
    }
   ],
   "source": [
    "categorical = ['PULocationID', 'DOLocationID']\n",
    "numerical = ['trip_distance']\n",
    "\n",
    "dv = DictVectorizer()\n",
    "\n",
    "train_dicts = df_train[categorical].to_dict(orient='records')\n",
    "X_train = dv.fit_transform(train_dicts)\n",
    "\n",
    "val_dicts = df_val[categorical].to_dict(orient='records')\n",
    "X_val = dv.transform(val_dicts)\n",
    "\n",
    "print(X_train.shape)"
   ]
  },
  {
   "cell_type": "code",
   "execution_count": 17,
   "id": "4f127c49",
   "metadata": {},
   "outputs": [],
   "source": [
    "target = 'duration'\n",
    "y_train = df_train[target].values\n",
    "y_val = df_val[target].values"
   ]
  },
  {
   "cell_type": "code",
   "execution_count": 18,
   "id": "51465565",
   "metadata": {},
   "outputs": [
    {
     "name": "stdout",
     "output_type": "stream",
     "text": [
      "train MSE:  58.51121587152861\n",
      "train MAE:  5.710800794524329\n",
      "train RMSE:  7.6492624397080675\n",
      "val MSE:  61.0244085027562\n",
      "val MAE:  5.821991682902076\n",
      "val RMSE:  7.81181211389241\n"
     ]
    }
   ],
   "source": [
    "lr = LinearRegression()\n",
    "lr.fit(X_train, y_train)\n",
    "\n",
    "y_pred = lr.predict(X_val)\n",
    "y_pred_t = lr.predict(X_train)\n",
    "\n",
    "print(\"train MSE: \", mean_squared_error(y_train, y_pred_t))\n",
    "print(\"train MAE: \", mean_absolute_error(y_train, y_pred_t))\n",
    "print(\"train RMSE: \", root_mean_squared_error(y_train, y_pred_t))\n",
    "\n",
    "\n",
    "print(\"val MSE: \", mean_squared_error(y_val, y_pred))\n",
    "print(\"val MAE: \", mean_absolute_error(y_val, y_pred))\n",
    "print(\"val RMSE: \", root_mean_squared_error(y_val, y_pred))"
   ]
  },
  {
   "cell_type": "code",
   "execution_count": null,
   "id": "5ff9461c",
   "metadata": {},
   "outputs": [],
   "source": []
  }
 ],
 "metadata": {
  "kernelspec": {
   "display_name": "Python 3 (ipykernel)",
   "language": "python",
   "name": "python3"
  },
  "language_info": {
   "codemirror_mode": {
    "name": "ipython",
    "version": 3
   },
   "file_extension": ".py",
   "mimetype": "text/x-python",
   "name": "python",
   "nbconvert_exporter": "python",
   "pygments_lexer": "ipython3",
   "version": "3.12.1"
  }
 },
 "nbformat": 4,
 "nbformat_minor": 5
}
